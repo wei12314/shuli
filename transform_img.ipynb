{
 "cells": [
  {
   "cell_type": "code",
   "execution_count": 1,
   "metadata": {},
   "outputs": [
    {
     "data": {
      "text/plain": [
       "True"
      ]
     },
     "execution_count": 1,
     "metadata": {},
     "output_type": "execute_result"
    }
   ],
   "source": [
    "import cv2\n",
    "import numpy as np\n",
    "\n",
    "# 加载图像\n",
    "img = cv2.imread('shuidao/crop_1.jpg')\n",
    "\n",
    "# 调整亮度和对比度\n",
    "alpha = 1.2  # 对比度增强系数\n",
    "beta = 30    # 亮度提升值\n",
    "adjusted_img = cv2.convertScaleAbs(img, alpha=alpha, beta=beta)\n",
    "\n",
    "# 调整饱和度（转换到 HSV 色彩空间，增加饱和度后再转换回 BGR）\n",
    "hsv_img = cv2.cvtColor(adjusted_img, cv2.COLOR_BGR2HSV)\n",
    "h, s, v = cv2.split(hsv_img)\n",
    "s = cv2.add(s, 25)  # 增加饱和度\n",
    "hsv_img = cv2.merge([h, s, v])\n",
    "final_img = cv2.cvtColor(hsv_img, cv2.COLOR_HSV2BGR)\n",
    "\n",
    "# 保存转换后的图像\n",
    "cv2.imwrite('output_img/crop_0_converted.jpg', final_img)\n"
   ]
  },
  {
   "cell_type": "code",
   "execution_count": 5,
   "metadata": {},
   "outputs": [],
   "source": [
    "from PIL import Image, ImageEnhance\n",
    "\n",
    "# 打开图片\n",
    "img_crop_1 = Image.open(\"compress_img/crop_25_compress.jpg\")\n",
    "\n",
    "# 调整亮度\n",
    "enhancer = ImageEnhance.Brightness(img_crop_1)\n",
    "img_bright = enhancer.enhance(1.2)  # 1.2 是示例值，您可以根据需要调整\n",
    "\n",
    "# 调整对比度\n",
    "enhancer = ImageEnhance.Contrast(img_bright)\n",
    "img_contrast = enhancer.enhance(1.2)  # 1.6 是示例值\n",
    "\n",
    "# 调整色调（饱和度）\n",
    "enhancer = ImageEnhance.Color(img_contrast)\n",
    "img_final = enhancer.enhance(1.1)  # 1.1 是示例值\n",
    "\n",
    "# 保存最终图片\n",
    "img_final.save(\"output_img/crop_25_c_converted.jpg\")\n"
   ]
  },
  {
   "cell_type": "code",
   "execution_count": 2,
   "metadata": {},
   "outputs": [],
   "source": [
    "# To achieve an almond-like color for the seeds, we need to shift the color towards warm, light brown/yellow tones.\n",
    "# We'll adjust brightness, contrast, and specifically shift the hue to achieve a warmer, almond-colored look.\n",
    "\n",
    "from PIL import ImageOps,Image\n",
    "\n",
    "# Convert the image to a warm tone and make fine adjustments to approach almond color\n",
    "# First, reduce overall image brightness to give it a warmer, natural tone\n",
    "# 打开图片\n",
    "img_crop_1 = Image.open(\"shuidao/crop_1.jpg\")\n",
    "img_warm = ImageEnhance.Brightness(img_crop_1).enhance(0.9) # 0.85\n",
    "\n",
    "# Next, increase the contrast to give the seeds some definition\n",
    "img_contrasted = ImageEnhance.Contrast(img_warm).enhance(1.1) # 1.2\n",
    "\n",
    "# Apply a color balance adjustment towards a warmer hue (almond color)\n",
    "img_almond_color = ImageEnhance.Color(img_contrasted).enhance(1.1)  # Enhance warmth # 1.2\n",
    "\n",
    "# Finally, adjust the overall color balance to introduce a more natural almond tone\n",
    "img_almond = ImageOps.colorize(ImageOps.grayscale(img_almond_color), black=\"brown\", white=\"wheat\")\n",
    "\n",
    "# Save the final image with almond-like seed colors\n",
    "img_almond.save(\"output_img/crop_1_converted.jpg\")\n"
   ]
  },
  {
   "cell_type": "code",
   "execution_count": 1,
   "metadata": {},
   "outputs": [
    {
     "data": {
      "text/plain": [
       "True"
      ]
     },
     "execution_count": 1,
     "metadata": {},
     "output_type": "execute_result"
    }
   ],
   "source": [
    "import cv2\n",
    "import numpy as np\n",
    "\n",
    "# 读取图像\n",
    "image = cv2.imread('shuidao/crop_1.jpg')\n",
    "\n",
    "# 1. 白平衡调节（简单的灰度世界算法）\n",
    "def simple_white_balance(img):\n",
    "    result = cv2.cvtColor(img, cv2.COLOR_BGR2LAB)\n",
    "    avg_a = np.average(result[:, :, 1])\n",
    "    avg_b = np.average(result[:, :, 2])\n",
    "    \n",
    "    result[:, :, 1] = result[:, :, 1] - ((avg_a - 128) * (result[:, :, 0] / 255.0) * 1.1)\n",
    "    result[:, :, 2] = result[:, :, 2] - ((avg_b - 128) * (result[:, :, 0] / 255.0) * 1.1)\n",
    "    \n",
    "    result = cv2.cvtColor(result, cv2.COLOR_LAB2BGR)\n",
    "    return result\n",
    "\n",
    "white_balanced_image = simple_white_balance(image)\n",
    "\n",
    "# 2. 锐化处理\n",
    "def sharpen_image(img):\n",
    "    kernel = np.array([[0, -1, 0], \n",
    "                       [-1, 5,-1], \n",
    "                       [0, -1, 0]])\n",
    "    sharpened = cv2.filter2D(img, -1, kernel)\n",
    "    return sharpened\n",
    "\n",
    "sharpened_image = sharpen_image(white_balanced_image)\n",
    "\n",
    "# 3. 色彩增强（通过提高饱和度）\n",
    "def enhance_color(img):\n",
    "    hsv_image = cv2.cvtColor(img, cv2.COLOR_BGR2HSV)\n",
    "    h, s, v = cv2.split(hsv_image)\n",
    "    s = cv2.add(s, 40)  # 增加饱和度\n",
    "    enhanced_image = cv2.merge([h, s, v])\n",
    "    enhanced_image = cv2.cvtColor(enhanced_image, cv2.COLOR_HSV2BGR)\n",
    "    return enhanced_image\n",
    "\n",
    "enhanced_image = enhance_color(sharpened_image)\n",
    "\n",
    "# 4. 保存结果\n",
    "cv2.imwrite('output_img/crop_1_converted.jpg', enhanced_image)"
   ]
  },
  {
   "cell_type": "code",
   "execution_count": null,
   "metadata": {},
   "outputs": [],
   "source": []
  }
 ],
 "metadata": {
  "kernelspec": {
   "display_name": "shuli",
   "language": "python",
   "name": "python3"
  },
  "language_info": {
   "codemirror_mode": {
    "name": "ipython",
    "version": 3
   },
   "file_extension": ".py",
   "mimetype": "text/x-python",
   "name": "python",
   "nbconvert_exporter": "python",
   "pygments_lexer": "ipython3",
   "version": "3.10.14"
  }
 },
 "nbformat": 4,
 "nbformat_minor": 2
}
