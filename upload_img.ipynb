{
 "cells": [
  {
   "cell_type": "code",
   "execution_count": null,
   "metadata": {},
   "outputs": [],
   "source": [
    "import requests\n",
    "\n",
    "headers = {\n",
    "    'User-Agent': 'Mozilla/5.0 (Windows NT 10.0; Win64; x64) AppleWebKit/537.36 (KHTML, like Gecko) Chrome/58.0.3029.110 Safari/537.3'\n",
    "}\n",
    "\n",
    "# 发送请求时设置请求头\n",
    "response = requests.get('http://example.com', headers=headers)"
   ]
  },
  {
   "cell_type": "code",
   "execution_count": 1,
   "metadata": {},
   "outputs": [],
   "source": [
    "import os\n",
    "from PIL import Image\n",
    "\n",
    "def get_size_format(b, factor=1024, suffix=\"B\"):\n",
    "    \"\"\"\n",
    "    Scale bytes to its proper byte format\n",
    "    e.g:\n",
    "        1253656 => '1.20MB'\n",
    "        1253656678 => '1.17GB'\n",
    "    \"\"\"\n",
    "    for unit in [\"\", \"K\", \"M\", \"G\", \"T\", \"P\", \"E\", \"Z\"]:\n",
    "        if b < factor:\n",
    "            return f\"{b:.2f}{unit}{suffix}\"\n",
    "        b /= factor\n",
    "    return f\"{b:.2f}Y{suffix}\""
   ]
  },
  {
   "cell_type": "code",
   "execution_count": 2,
   "metadata": {},
   "outputs": [
    {
     "name": "stdout",
     "output_type": "stream",
     "text": [
      "crop_0.jpg  [*] Size before compression: 2.39MB\n",
      "crop_1.jpg  [*] Size before compression: 1.26MB\n",
      "crop_2.jpg  [*] Size before compression: 1.76MB\n",
      "crop_3.jpg  [*] Size before compression: 27.09MB\n",
      "crop_4.jpg  [*] Size before compression: 1.37MB\n",
      "crop_5.jpg  [*] Size before compression: 2.56MB\n",
      "crop_6.jpg  [*] Size before compression: 2.46MB\n",
      "crop_7.jpg  [*] Size before compression: 2.52MB\n",
      "crop_8.jpg  [*] Size before compression: 2.45MB\n",
      "crop_10.jpg  [*] Size before compression: 1.55MB\n",
      "crop_12.jpg  [*] Size before compression: 1.41MB\n",
      "crop_14.jpg  [*] Size before compression: 1.37MB\n",
      "crop_16.jpg  [*] Size before compression: 1.30MB\n",
      "crop_18.jpg  [*] Size before compression: 1.25MB\n",
      "crop_20.jpg  [*] Size before compression: 1.45MB\n",
      "crop_22.jpg  [*] Size before compression: 1.22MB\n",
      "crop_24.jpg  [*] Size before compression: 1.24MB\n",
      "crop_26.jpg  [*] Size before compression: 1.10MB\n",
      "crop_27.jpg  [*] Size before compression: 1.90MB\n",
      "crop_9.jpg  [*] Size before compression: 1.58MB\n",
      "crop_11.jpg  [*] Size before compression: 1.55MB\n",
      "crop_13.jpg  [*] Size before compression: 1.30MB\n",
      "crop_15.jpg  [*] Size before compression: 1.38MB\n",
      "crop_17.jpg  [*] Size before compression: 1.27MB\n",
      "crop_19.jpg  [*] Size before compression: 1.27MB\n",
      "crop_21.jpg  [*] Size before compression: 1.14MB\n",
      "crop_23.jpg  [*] Size before compression: 1.36MB\n",
      "crop_25.jpg  [*] Size before compression: 2.22MB\n"
     ]
    }
   ],
   "source": [
    "dir = \"shuidao\"\n",
    "\n",
    "for img_name in os.listdir(dir):\n",
    "    img_path = os.path.join(dir, img_name)\n",
    "    image_size = os.path.getsize(img_path)\n",
    "    # print the size before compression/resizing\n",
    "    print(img_name, \" [*] Size before compression:\", get_size_format(image_size))"
   ]
  },
  {
   "cell_type": "code",
   "execution_count": 8,
   "metadata": {},
   "outputs": [],
   "source": [
    "import io\n",
    "from PIL import Image\n",
    "\n",
    "def compress_image(input_image_path, output_image_path, target_size_mb, quality=95):\n",
    "    with open(input_image_path, 'rb') as f:\n",
    "        image_bytes = f.read()\n",
    "        current_size = len(image_bytes) / 1024 / 1024  # Convert size to MB\n",
    "        print(\"图片压缩前的大小为：\", current_size, \"MB\")\n",
    "        # 打开图片\n",
    "        img = Image.open(input_image_path)\n",
    "\n",
    "        if current_size <= target_size_mb:\n",
    "            print(\"图片已经小于目标大小，无需压缩。\")\n",
    "            img.save(output_image_path)\n",
    "            return\n",
    "\n",
    "        # 尝试压缩图片\n",
    "        while current_size > target_size_mb and quality > 0:\n",
    "            buffer = io.BytesIO()\n",
    "            img.save(buffer, format='JPEG', quality=quality)\n",
    "            new_size = len(buffer.getvalue()) / 1024 / 1024\n",
    "            print(\"尝试压缩到：\", new_size, \"MB，质量：\", quality, \"%\")\n",
    "            if new_size <= target_size_mb:\n",
    "                break\n",
    "            quality -= 5\n",
    "\n",
    "        # 保存压缩后的图片\n",
    "        with open(output_image_path, 'wb') as f_out:\n",
    "            f_out.write(buffer.getvalue())\n",
    "\n",
    "        print(\"图片压缩后的大小为：\", new_size, \"MB，质量：\", quality, \"%\")\n",
    "\n",
    "# 使用示例\n",
    "# compress_image('shuidao/crop_0.jpg', 'compress_img/crop_0_compress.jpg', 2)"
   ]
  },
  {
   "cell_type": "code",
   "execution_count": 12,
   "metadata": {},
   "outputs": [
    {
     "name": "stdout",
     "output_type": "stream",
     "text": [
      "图片压缩前的大小为： 2.394611358642578 MB\n",
      "尝试压缩到： 2.349085807800293 MB，质量： 95 %\n",
      "尝试压缩到： 1.7510852813720703 MB，质量： 90 %\n",
      "图片压缩后的大小为： 1.7510852813720703 MB，质量： 90 %\n",
      "图片压缩前的大小为： 1.2551069259643555 MB\n",
      "图片已经小于目标大小，无需压缩。\n",
      "图片压缩前的大小为： 1.7649116516113281 MB\n",
      "图片已经小于目标大小，无需压缩。\n",
      "图片压缩前的大小为： 1.368281364440918 MB\n",
      "图片已经小于目标大小，无需压缩。\n",
      "图片压缩前的大小为： 2.5643510818481445 MB\n",
      "尝试压缩到： 2.676285743713379 MB，质量： 95 %\n",
      "尝试压缩到： 1.9924325942993164 MB，质量： 90 %\n",
      "图片压缩后的大小为： 1.9924325942993164 MB，质量： 90 %\n",
      "图片压缩前的大小为： 2.463015556335449 MB\n",
      "尝试压缩到： 2.9939966201782227 MB，质量： 95 %\n",
      "尝试压缩到： 1.999751091003418 MB，质量： 90 %\n",
      "图片压缩后的大小为： 1.999751091003418 MB，质量： 90 %\n",
      "图片压缩前的大小为： 2.516110420227051 MB\n",
      "尝试压缩到： 3.0345754623413086 MB，质量： 95 %\n",
      "尝试压缩到： 2.0292911529541016 MB，质量： 90 %\n",
      "尝试压缩到： 1.6076908111572266 MB，质量： 85 %\n",
      "图片压缩后的大小为： 1.6076908111572266 MB，质量： 85 %\n",
      "图片压缩前的大小为： 2.451852798461914 MB\n",
      "尝试压缩到： 2.9713525772094727 MB，质量： 95 %\n",
      "尝试压缩到： 1.9752693176269531 MB，质量： 90 %\n",
      "图片压缩后的大小为： 1.9752693176269531 MB，质量： 90 %\n",
      "图片压缩前的大小为： 1.5462350845336914 MB\n",
      "图片已经小于目标大小，无需压缩。\n",
      "图片压缩前的大小为： 1.4136533737182617 MB\n",
      "图片已经小于目标大小，无需压缩。\n",
      "图片压缩前的大小为： 1.3731250762939453 MB\n",
      "图片已经小于目标大小，无需压缩。\n",
      "图片压缩前的大小为： 1.2966680526733398 MB\n",
      "图片已经小于目标大小，无需压缩。\n",
      "图片压缩前的大小为： 1.2515411376953125 MB\n",
      "图片已经小于目标大小，无需压缩。\n",
      "图片压缩前的大小为： 1.4531984329223633 MB\n",
      "图片已经小于目标大小，无需压缩。\n",
      "图片压缩前的大小为： 1.2171916961669922 MB\n",
      "图片已经小于目标大小，无需压缩。\n",
      "图片压缩前的大小为： 1.2420473098754883 MB\n",
      "图片已经小于目标大小，无需压缩。\n",
      "图片压缩前的大小为： 1.1012802124023438 MB\n",
      "图片已经小于目标大小，无需压缩。\n",
      "图片压缩前的大小为： 1.8951492309570312 MB\n",
      "图片已经小于目标大小，无需压缩。\n",
      "图片压缩前的大小为： 2.394611358642578 MB\n",
      "尝试压缩到： 2.349085807800293 MB，质量： 95 %\n",
      "尝试压缩到： 1.7510852813720703 MB，质量： 90 %\n",
      "图片压缩后的大小为： 1.7510852813720703 MB，质量： 90 %\n",
      "图片压缩前的大小为： 1.5760602951049805 MB\n",
      "图片已经小于目标大小，无需压缩。\n",
      "图片压缩前的大小为： 1.5478200912475586 MB\n",
      "图片已经小于目标大小，无需压缩。\n",
      "图片压缩前的大小为： 1.3004884719848633 MB\n",
      "图片已经小于目标大小，无需压缩。\n",
      "图片压缩前的大小为： 1.3753385543823242 MB\n",
      "图片已经小于目标大小，无需压缩。\n",
      "图片压缩前的大小为： 1.269601821899414 MB\n",
      "图片已经小于目标大小，无需压缩。\n",
      "图片压缩前的大小为： 1.271554946899414 MB\n",
      "图片已经小于目标大小，无需压缩。\n",
      "图片压缩前的大小为： 1.1364011764526367 MB\n",
      "图片已经小于目标大小，无需压缩。\n",
      "图片压缩前的大小为： 1.3606176376342773 MB\n",
      "图片已经小于目标大小，无需压缩。\n",
      "图片压缩前的大小为： 2.2243480682373047 MB\n",
      "尝试压缩到： 2.372361183166504 MB，质量： 95 %\n",
      "尝试压缩到： 1.871877670288086 MB，质量： 90 %\n",
      "图片压缩后的大小为： 1.871877670288086 MB，质量： 90 %\n"
     ]
    }
   ],
   "source": [
    "dir = \"shuidao\"\n",
    "save_dir = \"compress_img\"\n",
    "\n",
    "for img_name in os.listdir(dir):\n",
    "    img_path = os.path.join(dir, img_name)\n",
    "    image_size = os.path.getsize(img_path)\n",
    "    split_name = img_name.split('.')\n",
    "    save_path = os.path.join(save_dir, f\"{split_name[0]}_compress.jpg\")\n",
    "    # print the size before compression/resizing\n",
    "    compress_image(img_path, save_path, 2)\n",
    "    # print(img_name, \" [*] Size before compression:\", get_size_format(image_size))"
   ]
  },
  {
   "cell_type": "code",
   "execution_count": 11,
   "metadata": {},
   "outputs": [
    {
     "ename": "UnidentifiedImageError",
     "evalue": "cannot identify image file '/home/bdhapp/shuli/shuidao/crop_3.jpg'",
     "output_type": "error",
     "traceback": [
      "\u001b[0;31m---------------------------------------------------------------------------\u001b[0m",
      "\u001b[0;31mUnidentifiedImageError\u001b[0m                    Traceback (most recent call last)",
      "Cell \u001b[0;32mIn[11], line 1\u001b[0m\n\u001b[0;32m----> 1\u001b[0m \u001b[43mImage\u001b[49m\u001b[38;5;241;43m.\u001b[39;49m\u001b[43mopen\u001b[49m\u001b[43m(\u001b[49m\u001b[38;5;124;43m'\u001b[39;49m\u001b[38;5;124;43m/home/bdhapp/shuli/shuidao/crop_3.jpg\u001b[39;49m\u001b[38;5;124;43m'\u001b[39;49m\u001b[43m)\u001b[49m\n",
      "File \u001b[0;32m~/anaconda3/envs/shuli/lib/python3.10/site-packages/PIL/Image.py:3498\u001b[0m, in \u001b[0;36mopen\u001b[0;34m(fp, mode, formats)\u001b[0m\n\u001b[1;32m   3496\u001b[0m     warnings\u001b[38;5;241m.\u001b[39mwarn(message)\n\u001b[1;32m   3497\u001b[0m msg \u001b[38;5;241m=\u001b[39m \u001b[38;5;124m\"\u001b[39m\u001b[38;5;124mcannot identify image file \u001b[39m\u001b[38;5;132;01m%r\u001b[39;00m\u001b[38;5;124m\"\u001b[39m \u001b[38;5;241m%\u001b[39m (filename \u001b[38;5;28;01mif\u001b[39;00m filename \u001b[38;5;28;01melse\u001b[39;00m fp)\n\u001b[0;32m-> 3498\u001b[0m \u001b[38;5;28;01mraise\u001b[39;00m UnidentifiedImageError(msg)\n",
      "\u001b[0;31mUnidentifiedImageError\u001b[0m: cannot identify image file '/home/bdhapp/shuli/shuidao/crop_3.jpg'"
     ]
    }
   ],
   "source": [
    "Image.open('/home/bdhapp/shuli/shuidao/crop_3.jpg')"
   ]
  },
  {
   "cell_type": "code",
   "execution_count": null,
   "metadata": {},
   "outputs": [],
   "source": []
  }
 ],
 "metadata": {
  "kernelspec": {
   "display_name": "shuli",
   "language": "python",
   "name": "python3"
  },
  "language_info": {
   "codemirror_mode": {
    "name": "ipython",
    "version": 3
   },
   "file_extension": ".py",
   "mimetype": "text/x-python",
   "name": "python",
   "nbconvert_exporter": "python",
   "pygments_lexer": "ipython3",
   "version": "3.10.14"
  }
 },
 "nbformat": 4,
 "nbformat_minor": 2
}
