{
 "cells": [
  {
   "cell_type": "code",
   "execution_count": 1,
   "metadata": {},
   "outputs": [],
   "source": [
    "import time\n",
    "import hmac\n",
    "import hashlib\n",
    "import base64\n",
    "import urllib.parse\n",
    "import requests\n",
    "import json\n",
    "\n",
    "app_key = 'b441c7e37b6aed09d242bcc382f076dc'\n",
    "app_secret = '7c419ba5a726f48e2e2a958396408c6b064cbddf254dfd8160fad650ce760bd0'\n",
    "\n",
    "timestamp = str(round(time.time() * 1000))\n",
    "accessSecret = app_secret\n",
    "secret_enc = accessSecret.encode('utf-8')\n",
    "string_to_sign = '{}\\n{}'.format(timestamp, accessSecret)\n",
    "string_to_sign_enc = string_to_sign.encode('utf-8')\n",
    "hmac_code = hmac.new(secret_enc, string_to_sign_enc, digestmod=hashlib.sha256).digest()\n",
    "sign = urllib.parse.quote_plus(base64.b64encode(hmac_code))\n",
    "\n",
    "\n",
    "url = \"https://openapi.zhunmou.com/ai/distinguish\"\n",
    "\n",
    "payload = json.dumps({\n",
    "  \"file_link\": \"https://img.picui.cn/free/2024/09/26/66f526dbdf6ef.jpg\",\n",
    "  \"mode_type\": 205,\n",
    "  \"on_mini_filter\": 1,\n",
    "})\n",
    "headers = {\n",
    "  \"Access-Key\": app_key,\n",
    "  \"Timestamp\": timestamp,\n",
    "  \"Signature\": sign\n",
    "}\n",
    "\n",
    "response = requests.request(\"POST\", url, headers=headers, data=payload)\n",
    "\n"
   ]
  },
  {
   "cell_type": "code",
   "execution_count": null,
   "metadata": {},
   "outputs": [],
   "source": [
    "import time\n",
    "import hmac\n",
    "import hashlib\n",
    "import base64\n",
    "import urllib.parse\n",
    "import requests\n",
    "import json\n",
    "# \"https://img.picui.cn/free/2024/09/26/66f526dbdf6ef.jpg\"\n",
    "def get_from_lingmou(file_link):\n",
    "    app_key = 'b441c7e37b6aed09d242bcc382f076dc'\n",
    "    app_secret = '7c419ba5a726f48e2e2a958396408c6b064cbddf254dfd8160fad650ce760bd0'\n",
    "\n",
    "    timestamp = str(round(time.time() * 1000))\n",
    "    accessSecret = app_secret\n",
    "    secret_enc = accessSecret.encode('utf-8')\n",
    "    string_to_sign = '{}\\n{}'.format(timestamp, accessSecret)\n",
    "    string_to_sign_enc = string_to_sign.encode('utf-8')\n",
    "    hmac_code = hmac.new(secret_enc, string_to_sign_enc, digestmod=hashlib.sha256).digest()\n",
    "    sign = urllib.parse.quote_plus(base64.b64encode(hmac_code))\n",
    "\n",
    "\n",
    "    url = \"https://openapi.zhunmou.com/ai/distinguish\"\n",
    "\n",
    "    payload = json.dumps({\n",
    "    \"file_link\": file_link,\n",
    "    \"mode_type\": 205,\n",
    "    \"on_mini_filter\": 1,\n",
    "    })\n",
    "    headers = {\n",
    "    \"Access-Key\": app_key,\n",
    "    \"Timestamp\": timestamp,\n",
    "    \"Signature\": sign\n",
    "    }\n",
    "\n",
    "    response = requests.request(\"POST\", url, headers=headers, data=payload)\n",
    "    j = json.loads(response.text)\n",
    "    res = j['results']\n",
    "    return res"
   ]
  },
  {
   "cell_type": "code",
   "execution_count": 63,
   "metadata": {},
   "outputs": [
    {
     "data": {
      "text/plain": [
       "<Response [200]>"
      ]
     },
     "execution_count": 63,
     "metadata": {},
     "output_type": "execute_result"
    }
   ],
   "source": [
    "type(response)\n",
    "response"
   ]
  },
  {
   "cell_type": "code",
   "execution_count": 64,
   "metadata": {},
   "outputs": [
    {
     "name": "stdout",
     "output_type": "stream",
     "text": [
      "解码之后的样式： {\"results\":[{\"x\":880,\"y\":806,\"w\":109,\"h\":123,\"score\":86},{\"x\":1095,\"y\":1423,\"w\":144,\"h\":181,\"score\":92},{\"x\":1125,\"y\":1052,\"w\":152,\"h\":159,\"score\":90},{\"x\":1265,\"y\":1235,\"w\":167,\"h\":146,\"score\":92},{\"x\":1362,\"y\":1431,\"w\":193,\"h\":134,\"score\":88},{\"x\":1395,\"y\":1344,\"w\":175,\"h\":120,\"score\":84},{\"x\":1530,\"y\":1881,\"w\":168,\"h\":181,\"score\":92},{\"x\":1577,\"y\":1117,\"w\":156,\"h\":105,\"score\":83},{\"x\":1577,\"y\":993,\"w\":128,\"h\":108,\"score\":86},{\"x\":1612,\"y\":1181,\"w\":160,\"h\":115,\"score\":85},{\"x\":1680,\"y\":1220,\"w\":134,\"h\":161,\"score\":83},{\"x\":1681,\"y\":942,\"w\":91,\"h\":136,\"score\":85},{\"x\":1692,\"y\":1065,\"w\":135,\"h\":155,\"score\":86},{\"x\":1720,\"y\":882,\"w\":122,\"h\":119,\"score\":86},{\"x\":1755,\"y\":981,\"w\":81,\"h\":125,\"score\":78},{\"x\":1777,\"y\":1218,\"w\":137,\"h\":149,\"score\":87},{\"x\":1794,\"y\":1049,\"w\":87,\"h\":133,\"score\":76},{\"x\":1806,\"y\":1336,\"w\":128,\"h\":186,\"score\":82},{\"x\":1816,\"y\":1101,\"w\":137,\"h\":150,\"score\":87},{\"x\":1845,\"y\":949,\"w\":100,\"h\":130,\"score\":80},{\"x\":1872,\"y\":996,\"w\":119,\"h\":116,\"score\":64},{\"x\":1897,\"y\":1251,\"w\":153,\"h\":125,\"score\":85},{\"x\":1898,\"y\":1177,\"w\":154,\"h\":111,\"score\":85},{\"x\":1911,\"y\":871,\"w\":153,\"h\":103,\"score\":45},{\"x\":1920,\"y\":1353,\"w\":116,\"h\":179,\"score\":84},{\"x\":1931,\"y\":960,\"w\":150,\"h\":100,\"score\":83},{\"x\":1938,\"y\":1049,\"w\":115,\"h\":142,\"score\":83},{\"x\":2002,\"y\":1321,\"w\":125,\"h\":180,\"score\":86},{\"x\":2009,\"y\":1064,\"w\":150,\"h\":140,\"score\":75},{\"x\":2022,\"y\":1034,\"w\":150,\"h\":126,\"score\":70},{\"x\":2025,\"y\":1185,\"w\":119,\"h\":150,\"score\":83},{\"x\":2059,\"y\":894,\"w\":160,\"h\":127,\"score\":74},{\"x\":2078,\"y\":853,\"w\":138,\"h\":103,\"score\":65},{\"x\":2092,\"y\":1086,\"w\":141,\"h\":128,\"score\":85},{\"x\":2105,\"y\":963,\"w\":168,\"h\":122,\"score\":83},{\"x\":2109,\"y\":1264,\"w\":163,\"h\":102,\"score\":84},{\"x\":2136,\"y\":1156,\"w\":156,\"h\":123,\"score\":83},{\"x\":2139,\"y\":1396,\"w\":184,\"h\":122,\"score\":84},{\"x\":2181,\"y\":838,\"w\":131,\"h\":84,\"score\":74},{\"x\":2181,\"y\":678,\"w\":141,\"h\":94,\"score\":84},{\"x\":2208,\"y\":1022,\"w\":119,\"h\":170,\"score\":84},{\"x\":2231,\"y\":1202,\"w\":157,\"h\":101,\"score\":83},{\"x\":2244,\"y\":1276,\"w\":150,\"h\":103,\"score\":86},{\"x\":2248,\"y\":875,\"w\":157,\"h\":144,\"score\":82},{\"x\":2262,\"y\":935,\"w\":176,\"h\":134,\"score\":45},{\"x\":2291,\"y\":971,\"w\":184,\"h\":144,\"score\":50},{\"x\":2294,\"y\":1402,\"w\":150,\"h\":163,\"score\":85},{\"x\":2316,\"y\":1100,\"w\":175,\"h\":99,\"score\":79},{\"x\":2348,\"y\":1172,\"w\":163,\"h\":103,\"score\":73},{\"x\":2358,\"y\":1261,\"w\":137,\"h\":145,\"score\":84},{\"x\":2392,\"y\":1438,\"w\":147,\"h\":133,\"score\":83},{\"x\":2452,\"y\":1328,\"w\":100,\"h\":138,\"score\":76},{\"x\":2472,\"y\":1265,\"w\":122,\"h\":177,\"score\":57},{\"x\":2473,\"y\":1114,\"w\":122,\"h\":161,\"score\":84},{\"x\":2523,\"y\":1453,\"w\":129,\"h\":171,\"score\":85},{\"x\":2548,\"y\":1170,\"w\":119,\"h\":140,\"score\":87},{\"x\":2647,\"y\":958,\"w\":112,\"h\":148,\"score\":87},{\"x\":2752,\"y\":1378,\"w\":165,\"h\":132,\"score\":90}],\"err_code\":0,\"err_msg\":\"\"}\n"
     ]
    }
   ],
   "source": [
    "print('解码之后的样式：', response.content.decode('utf-8'))"
   ]
  },
  {
   "cell_type": "code",
   "execution_count": 50,
   "metadata": {},
   "outputs": [
    {
     "name": "stdout",
     "output_type": "stream",
     "text": [
      "{\"results\":[{\"x\":856,\"y\":874,\"w\":103,\"h\":114,\"score\":83},{\"x\":1067,\"y\":1500,\"w\":136,\"h\":174,\"score\":73},{\"x\":1108,\"y\":1108,\"w\":156,\"h\":158,\"score\":89},{\"x\":1258,\"y\":1299,\"w\":169,\"h\":136,\"score\":88},{\"x\":1357,\"y\":1506,\"w\":205,\"h\":126,\"score\":88},{\"x\":1398,\"y\":1411,\"w\":182,\"h\":117,\"score\":85},{\"x\":1545,\"y\":1971,\"w\":185,\"h\":197,\"score\":91},{\"x\":1593,\"y\":1053,\"w\":132,\"h\":199,\"score\":45},{\"x\":1638,\"y\":1238,\"w\":140,\"h\":114,\"score\":82},{\"x\":1698,\"y\":998,\"w\":100,\"h\":133,\"score\":86},{\"x\":1717,\"y\":1278,\"w\":122,\"h\":160,\"score\":84},{\"x\":1722,\"y\":1118,\"w\":119,\"h\":149,\"score\":83},{\"x\":1739,\"y\":938,\"w\":131,\"h\":115,\"score\":84},{\"x\":1775,\"y\":1043,\"w\":81,\"h\":106,\"score\":70},{\"x\":1814,\"y\":1283,\"w\":141,\"h\":141,\"score\":86},{\"x\":1822,\"y\":1107,\"w\":84,\"h\":136,\"score\":76},{\"x\":1847,\"y\":1406,\"w\":119,\"h\":175,\"score\":83},{\"x\":1861,\"y\":1164,\"w\":119,\"h\":138,\"score\":77},{\"x\":1883,\"y\":1015,\"w\":140,\"h\":133,\"score\":49},{\"x\":1939,\"y\":1242,\"w\":156,\"h\":100,\"score\":82},{\"x\":1952,\"y\":1303,\"w\":150,\"h\":132,\"score\":84},{\"x\":1959,\"y\":919,\"w\":147,\"h\":103,\"score\":74},{\"x\":1970,\"y\":1014,\"w\":157,\"h\":92,\"score\":77},{\"x\":1970,\"y\":1426,\"w\":119,\"h\":178,\"score\":85},{\"x\":1981,\"y\":1101,\"w\":110,\"h\":141,\"score\":82},{\"x\":2062,\"y\":1382,\"w\":126,\"h\":180,\"score\":86},{\"x\":2066,\"y\":1127,\"w\":128,\"h\":122,\"score\":71},{\"x\":2080,\"y\":1091,\"w\":131,\"h\":112,\"score\":63},{\"x\":2080,\"y\":1237,\"w\":118,\"h\":162,\"score\":84},{\"x\":2106,\"y\":971,\"w\":141,\"h\":108,\"score\":69},{\"x\":2122,\"y\":914,\"w\":134,\"h\":96,\"score\":69},{\"x\":2148,\"y\":1143,\"w\":141,\"h\":116,\"score\":86},{\"x\":2169,\"y\":1011,\"w\":150,\"h\":122,\"score\":77},{\"x\":2170,\"y\":1323,\"w\":166,\"h\":108,\"score\":77},{\"x\":2198,\"y\":1220,\"w\":150,\"h\":111,\"score\":83},{\"x\":2219,\"y\":1457,\"w\":187,\"h\":117,\"score\":87},{\"x\":2227,\"y\":898,\"w\":134,\"h\":84,\"score\":82},{\"x\":2230,\"y\":746,\"w\":134,\"h\":91,\"score\":81},{\"x\":2270,\"y\":1076,\"w\":122,\"h\":167,\"score\":86},{\"x\":2298,\"y\":1257,\"w\":163,\"h\":103,\"score\":81},{\"x\":2319,\"y\":1323,\"w\":153,\"h\":115,\"score\":82},{\"x\":2327,\"y\":932,\"w\":131,\"h\":135,\"score\":81},{\"x\":2361,\"y\":1019,\"w\":169,\"h\":105,\"score\":63},{\"x\":2373,\"y\":1065,\"w\":185,\"h\":108,\"score\":74},{\"x\":2381,\"y\":1462,\"w\":144,\"h\":159,\"score\":86},{\"x\":2392,\"y\":1158,\"w\":181,\"h\":95,\"score\":80},{\"x\":2436,\"y\":1221,\"w\":159,\"h\":107,\"score\":80},{\"x\":2452,\"y\":1316,\"w\":128,\"h\":142,\"score\":86},{\"x\":2491,\"y\":1501,\"w\":153,\"h\":125,\"score\":83},{\"x\":2538,\"y\":1392,\"w\":131,\"h\":127,\"score\":81},{\"x\":2564,\"y\":1316,\"w\":119,\"h\":120,\"score\":77},{\"x\":2570,\"y\":1171,\"w\":113,\"h\":153,\"score\":84},{\"x\":2606,\"y\":1353,\"w\":113,\"h\":152,\"score\":61},{\"x\":2631,\"y\":1504,\"w\":135,\"h\":181,\"score\":84},{\"x\":2641,\"y\":1221,\"w\":118,\"h\":146,\"score\":86},{\"x\":2717,\"y\":1006,\"w\":138,\"h\":155,\"score\":83},{\"x\":2875,\"y\":1428,\"w\":178,\"h\":134,\"score\":90}],\"err_code\":0,\"err_msg\":\"\"}\n"
     ]
    }
   ],
   "source": [
    "print(response.text)"
   ]
  },
  {
   "cell_type": "code",
   "execution_count": 65,
   "metadata": {},
   "outputs": [
    {
     "name": "stdout",
     "output_type": "stream",
     "text": [
      "58\n"
     ]
    }
   ],
   "source": [
    "j = json.loads(response.text)\n",
    "res = j['results']\n",
    "print(len(res))"
   ]
  },
  {
   "cell_type": "code",
   "execution_count": 53,
   "metadata": {},
   "outputs": [],
   "source": [
    "import cv2\n",
    "\n",
    "def draw_img(coordinates):\n",
    "    # 读取了一张图像到 img 中\n",
    "    img = cv2.imread('shuidao/crop_25.jpg')\n",
    " \n",
    "    color = (0, 0, 255)  # 使用红色框\n",
    "    thickness = 2  # 框的厚度\n",
    "    # 逐个绘制矩形框\n",
    "    for coord in coordinates:\n",
    "        x, y, w, h = coord[\"x\"], coord[\"y\"], coord[\"w\"], coord[\"h\"]\n",
    "              \n",
    "        # 左上角坐标\n",
    "        top_left = (x, y)\n",
    "        \n",
    "        # 右下角坐标\n",
    "        bottom_right = (x + w, y + h)\n",
    "        \n",
    "        # 绘制正方形框，使用绿色框，厚度为2\n",
    "        cv2.rectangle(img, top_left, bottom_right, color, thickness)\n",
    "    # 显示图像\n",
    "    output_path = 'output_img/output_image_with_seeds6.jpg'\n",
    "    cv2.imwrite(output_path, img)\n",
    "draw_img(res)"
   ]
  },
  {
   "cell_type": "code",
   "execution_count": 66,
   "metadata": {},
   "outputs": [],
   "source": [
    "import cv2\n",
    "\n",
    "def drawdot_img(coordinates):\n",
    "    # 读取了一张图像到 img 中\n",
    "    img = cv2.imread('shuidao/crop_1.jpg')\n",
    " \n",
    "    color = (256,0,0)  # 使用蓝色\n",
    "    thickness = -1  # 框的厚度，-1为填充\n",
    "    # 逐个绘制\n",
    "    for coord in coordinates:\n",
    "        x, y, w, h = coord[\"x\"], coord[\"y\"], coord[\"w\"], coord[\"h\"]\n",
    "        x2, y2 = x + w, y + h\n",
    "              \n",
    "        # 圆心坐标\n",
    "        cx, cy = (x + x2) // 2, (y + y2) // 2\n",
    "        \n",
    "        # 绘制实心圆\n",
    "        cv2.circle(img, center=(cx,cy), radius=5, color=color, thickness=thickness)\n",
    "    # 显示图像\n",
    "    output_path = 'output_img/output_image_with_seeds10.jpg'\n",
    "    cv2.imwrite(output_path, img)\n",
    "drawdot_img(res)"
   ]
  },
  {
   "cell_type": "code",
   "execution_count": 19,
   "metadata": {},
   "outputs": [
    {
     "data": {
      "text/plain": [
       "True"
      ]
     },
     "execution_count": 19,
     "metadata": {},
     "output_type": "execute_result"
    }
   ],
   "source": [
    "import cv2\n",
    "\n",
    "# 假设已经读取了一张图像到 img 中\n",
    "img = cv2.imread('shuidao/20240914141618.jpg')\n",
    "\n",
    "# 给定的坐标和尺寸\n",
    "x = 856\n",
    "y = 874\n",
    "w = 103\n",
    "h = 114\n",
    "\n",
    "# 计算正方形框的边长\n",
    "side_length = min(w, h)\n",
    "\n",
    "# 确定正方形框的左上角和右下角\n",
    "top_left = (x, y)\n",
    "bottom_right = (x + w, y + h)\n",
    "\n",
    "# 在图像上绘制正方形框\n",
    "color = (0, 0, 255)  # 使用绿色框\n",
    "thickness = 1  # 框的厚度\n",
    "cv2.rectangle(img, top_left, bottom_right, color, thickness)\n",
    "\n",
    "# 显示图像\n",
    "output_path = 'output_img/output_image_with_seeds6.jpg'\n",
    "cv2.imwrite(output_path, img)\n",
    "# cv2.waitKey(0)\n",
    "# cv2.destroyAllWindows()"
   ]
  },
  {
   "cell_type": "code",
   "execution_count": 28,
   "metadata": {},
   "outputs": [
    {
     "name": "stdout",
     "output_type": "stream",
     "text": [
      "4000 2252\n"
     ]
    }
   ],
   "source": [
    "from PIL import Image\n",
    "image = Image.open(\"shuidao/20240914141618.jpg\")                                               #读取图片，然后获取图片的宽和高\n",
    "W, H = image.size\n",
    "print(W, H)"
   ]
  },
  {
   "cell_type": "code",
   "execution_count": null,
   "metadata": {},
   "outputs": [],
   "source": [
    "def convert(size, box):\n",
    "    dw = 1. / size[0]\n",
    "    dh = 1. / size[1]\n",
    "    \n",
    "    # 计算中心点坐标和宽高\n",
    "    x_center = box[0] + box[2] / 2.0\n",
    "    y_center = box[1] + box[3] / 2.0\n",
    "    width = box[2]\n",
    "    height = box[3]\n",
    "    \n",
    "    # 归一化并保留六位小数\n",
    "    x_center = round(x_center * dw, 6)\n",
    "    width = round(width * dw, 6)\n",
    "    y_center = round(y_center * dh, 6)\n",
    "    height = round(height * dh, 6)\n",
    "    \n",
    "    return (x_center, y_center, width, height)"
   ]
  }
 ],
 "metadata": {
  "kernelspec": {
   "display_name": "shuli",
   "language": "python",
   "name": "python3"
  },
  "language_info": {
   "codemirror_mode": {
    "name": "ipython",
    "version": 3
   },
   "file_extension": ".py",
   "mimetype": "text/x-python",
   "name": "python",
   "nbconvert_exporter": "python",
   "pygments_lexer": "ipython3",
   "version": "3.10.14"
  }
 },
 "nbformat": 4,
 "nbformat_minor": 2
}
