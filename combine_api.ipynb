{
 "cells": [
  {
   "cell_type": "code",
   "execution_count": 1,
   "metadata": {},
   "outputs": [],
   "source": [
    "import time\n",
    "import hmac\n",
    "import hashlib\n",
    "import base64\n",
    "import urllib.parse\n",
    "import requests\n",
    "import json\n",
    "# \"https://img.picui.cn/free/2024/09/26/66f526dbdf6ef.jpg\"\n",
    "'''output : [{\"x\":856,\"y\":874,\"w\":103,\"h\":114,\"score\":83},{\"x\":1067,\"y\":1500,\"w\":136,\"h\":174,\"score\":73}]'''\n",
    "def get_from_lingmou(file_link):\n",
    "    app_key = 'b441c7e37b6aed09d242bcc382f076dc'\n",
    "    app_secret = '7c419ba5a726f48e2e2a958396408c6b064cbddf254dfd8160fad650ce760bd0'\n",
    "\n",
    "    timestamp = str(round(time.time() * 1000))\n",
    "    accessSecret = app_secret\n",
    "    secret_enc = accessSecret.encode('utf-8')\n",
    "    string_to_sign = '{}\\n{}'.format(timestamp, accessSecret)\n",
    "    string_to_sign_enc = string_to_sign.encode('utf-8')\n",
    "    hmac_code = hmac.new(secret_enc, string_to_sign_enc, digestmod=hashlib.sha256).digest()\n",
    "    sign = urllib.parse.quote_plus(base64.b64encode(hmac_code))\n",
    "\n",
    "\n",
    "    url = \"https://openapi.zhunmou.com/ai/distinguish\"\n",
    "\n",
    "    payload = json.dumps({\n",
    "    \"file_link\": file_link,\n",
    "    \"mode_type\": 48,\n",
    "    \"on_mini_filter\": 1,\n",
    "    })\n",
    "    headers = {\n",
    "    \"Access-Key\": app_key,\n",
    "    \"Timestamp\": timestamp,\n",
    "    \"Signature\": sign\n",
    "    }\n",
    "\n",
    "    response = requests.request(\"POST\", url, headers=headers, data=payload)\n",
    "    j = json.loads(response.text)\n",
    "    res = j['results']\n",
    "    return res\n",
    "test_url = \"https://caiwei.obs.cn-north-4.myhuaweicloud.com/temp/test_crop/yumi/yumi_test.jpg\"\n",
    "res = get_from_lingmou(test_url)"
   ]
  },
  {
   "cell_type": "code",
   "execution_count": null,
   "metadata": {},
   "outputs": [],
   "source": [
    "import cv2\n",
    "import numpy as np\n",
    "import urllib.request\n",
    "res = urllib.request.urlopen(\"https://pytorch.org/assets/images/amazon-ads-logo.png\")\n",
    "img = np.asarray(bytearray(res.read()), dtype=\"uint8\")\n",
    "img = cv2.imdecode(img, cv2.IMREAD_COLOR)"
   ]
  },
  {
   "cell_type": "code",
   "execution_count": 2,
   "metadata": {},
   "outputs": [],
   "source": [
    "import cv2\n",
    "\n",
    "def drawdot_img(coordinates, input_path, output_path):\n",
    "    # 读取了一张图像到 img 中\n",
    "    img = cv2.imread(input_path)\n",
    " \n",
    "    color = (255,0,0)  # 使用蓝色\n",
    "    thickness = -1  # 框的厚度\n",
    "    # 逐个绘制\n",
    "    for coord in coordinates:\n",
    "        x, y, w, h = coord[\"x\"], coord[\"y\"], coord[\"w\"], coord[\"h\"]\n",
    "        x2, y2 = x + w, y + h\n",
    "              \n",
    "        # 圆心坐标\n",
    "        cx, cy = (x + x2) // 2, (y + y2) // 2\n",
    "        \n",
    "        # 绘制蓝色实心圆\n",
    "        cv2.circle(img, center=(cx,cy), radius=5, color=color, thickness=thickness)\n",
    "    # 显示图像\n",
    "    cv2.imwrite(output_path, img)\n",
    "input_path, output_path = \"compress_img/yumi_test.jpg\", \"output_img/yumi_circle04.jpg\"\n",
    "drawdot_img(res, input_path, output_path)"
   ]
  },
  {
   "cell_type": "code",
   "execution_count": 1,
   "metadata": {},
   "outputs": [],
   "source": [
    "from PIL import Image, ImageEnhance\n",
    "\n",
    "def tranform_img(img_path):\n",
    "    # 打开图片\n",
    "    img_crop_1 = Image.open(img_path)\n",
    "\n",
    "    # 调整亮度\n",
    "    enhancer = ImageEnhance.Brightness(img_crop_1)\n",
    "    img_bright = enhancer.enhance(1.2)  # 1.2 是示例值，您可以根据需要调整\n",
    "\n",
    "    # 调整对比度\n",
    "    enhancer = ImageEnhance.Contrast(img_bright)\n",
    "    img_contrast = enhancer.enhance(1.2)  # 1.6 是示例值\n",
    "\n",
    "    # 调整色调（饱和度）\n",
    "    enhancer = ImageEnhance.Color(img_contrast)\n",
    "    img_final = enhancer.enhance(1.1)  # 1.1 是示例值\n",
    "    return img_final"
   ]
  },
  {
   "cell_type": "code",
   "execution_count": 17,
   "metadata": {},
   "outputs": [],
   "source": [
    "import cv2\n",
    "\n",
    "def drawnum_img(coordinates, input_path, output_path):\n",
    "    # 读取了一张图像到 img 中\n",
    "    img = cv2.imread(input_path)\n",
    " \n",
    "    # 逐个绘制\n",
    "    for i, coord in enumerate(coordinates):\n",
    "        x, y, w, h = coord[\"x\"], coord[\"y\"], coord[\"w\"], coord[\"h\"]\n",
    "        x2, y2 = x + w, y + h\n",
    "              \n",
    "        # 圆心坐标\n",
    "        cx, cy = (x + x2) // 2, (y + y2) // 2\n",
    "        \n",
    "        # 绘制正方形框，使用绿色框，厚度为2\n",
    "        cv2.putText(img, str(i), (cx, cy), cv2.FONT_HERSHEY_SIMPLEX, 1, (255, 0, 0), 3)\n",
    "    # 显示图像\n",
    "    cv2.imwrite(output_path, img)\n",
    "input_path, output_path = \"compress_img/crop_25_compress.jpg\", \"output_img/test_num.jpg\"\n",
    "drawnum_img(res, input_path, output_path)"
   ]
  },
  {
   "cell_type": "code",
   "execution_count": null,
   "metadata": {},
   "outputs": [],
   "source": []
  }
 ],
 "metadata": {
  "kernelspec": {
   "display_name": "shuli",
   "language": "python",
   "name": "python3"
  },
  "language_info": {
   "codemirror_mode": {
    "name": "ipython",
    "version": 3
   },
   "file_extension": ".py",
   "mimetype": "text/x-python",
   "name": "python",
   "nbconvert_exporter": "python",
   "pygments_lexer": "ipython3",
   "version": "3.10.14"
  }
 },
 "nbformat": 4,
 "nbformat_minor": 2
}
