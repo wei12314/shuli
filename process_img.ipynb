{
 "cells": [
  {
   "cell_type": "code",
   "execution_count": 4,
   "metadata": {},
   "outputs": [],
   "source": [
    "import os\n",
    "from pathlib import Path\n",
    "\n",
    "path = 'shuidao/'\n",
    "\n",
    "for file_name in os.listdir(path):\n",
    "    splits = file_name.split('_')\n",
    "    file_path = os.path.join(path, file_name)\n",
    "    new_file_name = os.path.join(path, splits[-1])\n",
    "    file = Path(file_path)\n",
    "    file.rename(new_file_name)\n"
   ]
  },
  {
   "cell_type": "code",
   "execution_count": 3,
   "metadata": {},
   "outputs": [],
   "source": [
    "import os\n",
    "from pathlib import Path\n",
    "\n",
    "path = 'shuidao/'\n",
    "\n",
    "for i, file_name in enumerate(os.listdir(path)):\n",
    "    file_path = os.path.join(path, file_name)\n",
    "    img_name = f\"crop_{i}.jpg\"\n",
    "    new_file_name = os.path.join(path, img_name)\n",
    "    file = Path(file_path)\n",
    "    file.rename(new_file_name)\n"
   ]
  },
  {
   "cell_type": "code",
   "execution_count": 1,
   "metadata": {},
   "outputs": [
    {
     "name": "stdout",
     "output_type": "stream",
     "text": [
      "['20240914141618.jpg', '20240914141650.jpg', '20240914141652.jpg', '20240914141654.jpg', '20240914141655.jpg', '20240914141656.jpg', '20240914141657.jpg', '20240914141719.jpg', '20240914141721.jpg', '20240914141722.jpg', '20240914141724.jpg', '20240914141726.jpg', '20240914141727.jpg', '20240914141729.jpg', '20240914141731.jpg', '20240914141732.jpg', '20240914141733.jpg', '20240914141734.jpg', '20240914141735.jpg', '20240914141736.jpg', '20240914141737.jpg', '20240914141738.jpg', '20240914141740.jpg', '20240914141741.jpg', '20240914141742.jpg', '20240914141743.jpg', '20240914141744.jpg', '20240914141745.jpg']\n"
     ]
    }
   ],
   "source": [
    "import os\n",
    "from pathlib import Path\n",
    "\n",
    "path = 'shuidao/'\n",
    "print(os.listdir(path))"
   ]
  },
  {
   "cell_type": "code",
   "execution_count": null,
   "metadata": {},
   "outputs": [],
   "source": []
  }
 ],
 "metadata": {
  "kernelspec": {
   "display_name": "shuli",
   "language": "python",
   "name": "python3"
  },
  "language_info": {
   "codemirror_mode": {
    "name": "ipython",
    "version": 3
   },
   "file_extension": ".py",
   "mimetype": "text/x-python",
   "name": "python",
   "nbconvert_exporter": "python",
   "pygments_lexer": "ipython3",
   "version": "3.10.14"
  }
 },
 "nbformat": 4,
 "nbformat_minor": 2
}
